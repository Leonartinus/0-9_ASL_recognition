{
  "nbformat": 4,
  "nbformat_minor": 0,
  "metadata": {
    "colab": {
      "provenance": []
    },
    "kernelspec": {
      "name": "python3",
      "display_name": "Python 3"
    },
    "language_info": {
      "name": "python"
    }
  },
  "cells": [
    {
      "cell_type": "code",
      "execution_count": 2,
      "metadata": {
        "id": "CLDwYhYEGXBj"
      },
      "outputs": [],
      "source": [
        "import pandas as pd\n",
        "import numpy as np\n",
        "import torch\n",
        "import torch.nn as nn\n",
        "import torch.optim as optim\n",
        "from sklearn.model_selection import train_test_split\n",
        "from sklearn.preprocessing import StandardScaler\n",
        "from sklearn.metrics import accuracy_score"
      ]
    },
    {
      "cell_type": "code",
      "source": [
        "# Step 1: Load the dataset\n",
        "data = pd.read_csv('https://raw.githubusercontent.com/Leonartinus/0-9_ASL_recognition/main/Leo0-9.csv')\n",
        "\n",
        "# Step 2: Prepare the data\n",
        "# Split the dataset into features (X) and labels (y)\n",
        "X = data.drop('label', axis=1).values  # Features\n",
        "y = data['label'].values  # Labels\n",
        "\n",
        "# # Standardize the features\n",
        "scaler = StandardScaler()\n",
        "X = scaler.fit_transform(X)\n",
        "\n",
        "# Convert to PyTorch tensors\n",
        "X = torch.tensor(X, dtype=torch.float32)\n",
        "y = torch.tensor(y, dtype=torch.long)\n",
        "\n",
        "# Split the data into training and test sets\n",
        "X_train, X_test, y_train, y_test = train_test_split(X, y, test_size=0.2, random_state=42)\n"
      ],
      "metadata": {
        "id": "5vgKJ0wZGb1K"
      },
      "execution_count": 3,
      "outputs": []
    },
    {
      "cell_type": "code",
      "source": [
        "# Step 3: Build the neural network\n",
        "class NeuralNetwork(nn.Module):\n",
        "    def __init__(self):\n",
        "        super(NeuralNetwork, self).__init__()\n",
        "        self.layer1 = nn.Linear(X.shape[1], 128)\n",
        "        self.layer2 = nn.Linear(128, 64)\n",
        "        self.layer3 = nn.Linear(64, 32)\n",
        "        self.output_layer = nn.Linear(32, 10)\n",
        "        self.dropout = nn.Dropout(0.5)\n",
        "        self.relu = nn.ReLU()\n",
        "        self.softmax = nn.Softmax(dim=1)\n",
        "\n",
        "    def forward(self, x):\n",
        "        x = self.relu(self.layer1(x))\n",
        "        x = self.dropout(x)\n",
        "        x = self.relu(self.layer2(x))\n",
        "        x = self.dropout(x)\n",
        "        x = self.relu(self.layer3(x))\n",
        "        x = self.output_layer(x)\n",
        "        return self.softmax(x)"
      ],
      "metadata": {
        "id": "nBi5fvUEGiLl"
      },
      "execution_count": 4,
      "outputs": []
    },
    {
      "cell_type": "code",
      "source": [
        "\n",
        "model = NeuralNetwork()\n",
        "\n",
        "# Step 4: Compile the model\n",
        "criterion = nn.CrossEntropyLoss()\n",
        "optimizer = optim.Adam(model.parameters(), lr=0.001)\n",
        "\n",
        "# Step 5: Train the model\n",
        "num_epochs = 100\n",
        "batch_size = 32\n",
        "\n",
        "# DataLoader for batching\n",
        "train_data = torch.utils.data.TensorDataset(X_train, y_train)\n",
        "train_loader = torch.utils.data.DataLoader(train_data, batch_size=batch_size, shuffle=True)\n",
        "\n",
        "for epoch in range(num_epochs):\n",
        "    for i, (inputs, labels) in enumerate(train_loader):\n",
        "        # Zero the parameter gradients\n",
        "        optimizer.zero_grad()\n",
        "\n",
        "        # Forward pass\n",
        "        outputs = model(inputs)\n",
        "        loss = criterion(outputs, labels)\n",
        "\n",
        "        # Backward pass and optimize\n",
        "        loss.backward()\n",
        "        optimizer.step()\n",
        "\n",
        "    print(f'Epoch {epoch+1}/{num_epochs}, Loss: {loss.item()}')"
      ],
      "metadata": {
        "id": "kYhymYCLGt__",
        "colab": {
          "base_uri": "https://localhost:8080/"
        },
        "outputId": "624a6ccf-0d0b-493d-8d49-7c92a1c57011"
      },
      "execution_count": 5,
      "outputs": [
        {
          "output_type": "stream",
          "name": "stdout",
          "text": [
            "Epoch 1/100, Loss: 1.9277468919754028\n",
            "Epoch 2/100, Loss: 1.643654704093933\n",
            "Epoch 3/100, Loss: 1.6667170524597168\n",
            "Epoch 4/100, Loss: 1.6549733877182007\n",
            "Epoch 5/100, Loss: 1.6310149431228638\n",
            "Epoch 6/100, Loss: 1.532344937324524\n",
            "Epoch 7/100, Loss: 1.5450729131698608\n",
            "Epoch 8/100, Loss: 1.5513701438903809\n",
            "Epoch 9/100, Loss: 1.5451979637145996\n",
            "Epoch 10/100, Loss: 1.5794113874435425\n",
            "Epoch 11/100, Loss: 1.5068567991256714\n",
            "Epoch 12/100, Loss: 1.5461632013320923\n",
            "Epoch 13/100, Loss: 1.4714703559875488\n",
            "Epoch 14/100, Loss: 1.5046061277389526\n",
            "Epoch 15/100, Loss: 1.4615381956100464\n",
            "Epoch 16/100, Loss: 1.5018301010131836\n",
            "Epoch 17/100, Loss: 1.461224913597107\n",
            "Epoch 18/100, Loss: 1.5459623336791992\n",
            "Epoch 19/100, Loss: 1.461295247077942\n",
            "Epoch 20/100, Loss: 1.6415961980819702\n",
            "Epoch 21/100, Loss: 1.5029597282409668\n",
            "Epoch 22/100, Loss: 1.5445410013198853\n",
            "Epoch 23/100, Loss: 1.5734834671020508\n",
            "Epoch 24/100, Loss: 1.4634041786193848\n",
            "Epoch 25/100, Loss: 1.544851303100586\n",
            "Epoch 26/100, Loss: 1.5628414154052734\n",
            "Epoch 27/100, Loss: 1.4915266036987305\n",
            "Epoch 28/100, Loss: 1.5021251440048218\n",
            "Epoch 29/100, Loss: 1.4615740776062012\n",
            "Epoch 30/100, Loss: 1.4668159484863281\n",
            "Epoch 31/100, Loss: 1.4611555337905884\n",
            "Epoch 32/100, Loss: 1.5217825174331665\n",
            "Epoch 33/100, Loss: 1.4987961053848267\n",
            "Epoch 34/100, Loss: 1.461159348487854\n",
            "Epoch 35/100, Loss: 1.5026288032531738\n",
            "Epoch 36/100, Loss: 1.465291142463684\n",
            "Epoch 37/100, Loss: 1.5897375345230103\n",
            "Epoch 38/100, Loss: 1.5000144243240356\n",
            "Epoch 39/100, Loss: 1.4663444757461548\n",
            "Epoch 40/100, Loss: 1.4612773656845093\n",
            "Epoch 41/100, Loss: 1.4614113569259644\n",
            "Epoch 42/100, Loss: 1.4907894134521484\n",
            "Epoch 43/100, Loss: 1.503398060798645\n",
            "Epoch 44/100, Loss: 1.49880850315094\n",
            "Epoch 45/100, Loss: 1.4611514806747437\n",
            "Epoch 46/100, Loss: 1.4684556722640991\n",
            "Epoch 47/100, Loss: 1.5007309913635254\n",
            "Epoch 48/100, Loss: 1.4611526727676392\n",
            "Epoch 49/100, Loss: 1.462493896484375\n",
            "Epoch 50/100, Loss: 1.4638854265213013\n",
            "Epoch 51/100, Loss: 1.4746278524398804\n",
            "Epoch 52/100, Loss: 1.4897860288619995\n",
            "Epoch 53/100, Loss: 1.4613927602767944\n",
            "Epoch 54/100, Loss: 1.5418963432312012\n",
            "Epoch 55/100, Loss: 1.5039173364639282\n",
            "Epoch 56/100, Loss: 1.5448092222213745\n",
            "Epoch 57/100, Loss: 1.5451465845108032\n",
            "Epoch 58/100, Loss: 1.5032567977905273\n",
            "Epoch 59/100, Loss: 1.4611573219299316\n",
            "Epoch 60/100, Loss: 1.4611659049987793\n",
            "Epoch 61/100, Loss: 1.4680333137512207\n",
            "Epoch 62/100, Loss: 1.4722919464111328\n",
            "Epoch 63/100, Loss: 1.4611531496047974\n",
            "Epoch 64/100, Loss: 1.4618805646896362\n",
            "Epoch 65/100, Loss: 1.4799429178237915\n",
            "Epoch 66/100, Loss: 1.5028170347213745\n",
            "Epoch 67/100, Loss: 1.5189858675003052\n",
            "Epoch 68/100, Loss: 1.5045084953308105\n",
            "Epoch 69/100, Loss: 1.4611573219299316\n",
            "Epoch 70/100, Loss: 1.480444073677063\n",
            "Epoch 71/100, Loss: 1.4612561464309692\n",
            "Epoch 72/100, Loss: 1.4619579315185547\n",
            "Epoch 73/100, Loss: 1.4611505270004272\n",
            "Epoch 74/100, Loss: 1.4635568857192993\n",
            "Epoch 75/100, Loss: 1.4891310930252075\n",
            "Epoch 76/100, Loss: 1.5481061935424805\n",
            "Epoch 77/100, Loss: 1.5218688249588013\n",
            "Epoch 78/100, Loss: 1.4611505270004272\n",
            "Epoch 79/100, Loss: 1.4828113317489624\n",
            "Epoch 80/100, Loss: 1.4620975255966187\n",
            "Epoch 81/100, Loss: 1.5028012990951538\n",
            "Epoch 82/100, Loss: 1.5028196573257446\n",
            "Epoch 83/100, Loss: 1.4612220525741577\n",
            "Epoch 84/100, Loss: 1.4946571588516235\n",
            "Epoch 85/100, Loss: 1.5027908086776733\n",
            "Epoch 86/100, Loss: 1.5031641721725464\n",
            "Epoch 87/100, Loss: 1.4611502885818481\n",
            "Epoch 88/100, Loss: 1.4611502885818481\n",
            "Epoch 89/100, Loss: 1.4611502885818481\n",
            "Epoch 90/100, Loss: 1.5098586082458496\n",
            "Epoch 91/100, Loss: 1.5028613805770874\n",
            "Epoch 92/100, Loss: 1.515504240989685\n",
            "Epoch 93/100, Loss: 1.5034875869750977\n",
            "Epoch 94/100, Loss: 1.4611505270004272\n",
            "Epoch 95/100, Loss: 1.4768778085708618\n",
            "Epoch 96/100, Loss: 1.5028477907180786\n",
            "Epoch 97/100, Loss: 1.4615999460220337\n",
            "Epoch 98/100, Loss: 1.4611502885818481\n",
            "Epoch 99/100, Loss: 1.4611502885818481\n",
            "Epoch 100/100, Loss: 1.4611505270004272\n"
          ]
        }
      ]
    },
    {
      "cell_type": "code",
      "source": [
        "# Step 6: Evaluate the model\n",
        "model.eval()\n",
        "with torch.no_grad():\n",
        "    outputs = model(X_test)\n",
        "    _, predicted = torch.max(outputs, 1)\n",
        "    accuracy = accuracy_score(y_test, predicted)\n",
        "    print(f'Test accuracy: {accuracy}')"
      ],
      "metadata": {
        "id": "qxubJsq5Gzxy",
        "colab": {
          "base_uri": "https://localhost:8080/"
        },
        "outputId": "59e8d6fa-e6b5-4284-a52a-a9a47e9d4d60"
      },
      "execution_count": 6,
      "outputs": [
        {
          "output_type": "stream",
          "name": "stdout",
          "text": [
            "Test accuracy: 0.9843641417651147\n"
          ]
        }
      ]
    },
    {
      "cell_type": "code",
      "source": [
        "torch.save(model, 'leo_model.pt')\n",
        "\n",
        "from google.colab import files\n",
        "\n",
        "# Download the file\n",
        "files.download('leo_model.pt')"
      ],
      "metadata": {
        "id": "8B4Dp22RuWzM",
        "colab": {
          "base_uri": "https://localhost:8080/",
          "height": 17
        },
        "outputId": "c3dbfbb9-9bda-4e2c-e8f8-dd2b50e5fc89"
      },
      "execution_count": 8,
      "outputs": [
        {
          "output_type": "display_data",
          "data": {
            "text/plain": [
              "<IPython.core.display.Javascript object>"
            ],
            "application/javascript": [
              "\n",
              "    async function download(id, filename, size) {\n",
              "      if (!google.colab.kernel.accessAllowed) {\n",
              "        return;\n",
              "      }\n",
              "      const div = document.createElement('div');\n",
              "      const label = document.createElement('label');\n",
              "      label.textContent = `Downloading \"${filename}\": `;\n",
              "      div.appendChild(label);\n",
              "      const progress = document.createElement('progress');\n",
              "      progress.max = size;\n",
              "      div.appendChild(progress);\n",
              "      document.body.appendChild(div);\n",
              "\n",
              "      const buffers = [];\n",
              "      let downloaded = 0;\n",
              "\n",
              "      const channel = await google.colab.kernel.comms.open(id);\n",
              "      // Send a message to notify the kernel that we're ready.\n",
              "      channel.send({})\n",
              "\n",
              "      for await (const message of channel.messages) {\n",
              "        // Send a message to notify the kernel that we're ready.\n",
              "        channel.send({})\n",
              "        if (message.buffers) {\n",
              "          for (const buffer of message.buffers) {\n",
              "            buffers.push(buffer);\n",
              "            downloaded += buffer.byteLength;\n",
              "            progress.value = downloaded;\n",
              "          }\n",
              "        }\n",
              "      }\n",
              "      const blob = new Blob(buffers, {type: 'application/binary'});\n",
              "      const a = document.createElement('a');\n",
              "      a.href = window.URL.createObjectURL(blob);\n",
              "      a.download = filename;\n",
              "      div.appendChild(a);\n",
              "      a.click();\n",
              "      div.remove();\n",
              "    }\n",
              "  "
            ]
          },
          "metadata": {}
        },
        {
          "output_type": "display_data",
          "data": {
            "text/plain": [
              "<IPython.core.display.Javascript object>"
            ],
            "application/javascript": [
              "download(\"download_0b9f22bb-0893-4e71-8c98-9dcabe4bfa44\", \"leo_model.pt\", 69720)"
            ]
          },
          "metadata": {}
        }
      ]
    }
  ]
}